{
 "cells": [
  {
   "cell_type": "code",
   "execution_count": 7,
   "metadata": {},
   "outputs": [
    {
     "name": "stdout",
     "output_type": "stream",
     "text": [
      "Anil Reddy\n"
     ]
    }
   ],
   "source": [
    "F_Name=\"Anil\"\n",
    "L_Name=\"reddy\"\n",
    "Full_Name= f\"{F_Name} {L_Name}\"\n",
    "print(Full_Name.title())"
   ]
  },
  {
   "cell_type": "code",
   "execution_count": 6,
   "metadata": {},
   "outputs": [
    {
     "name": "stdout",
     "output_type": "stream",
     "text": [
      "Anil Reddy\n",
      "anil reddy\n",
      "ANIL REDDY\n"
     ]
    }
   ],
   "source": [
    "import sys\n",
    "\n",
    "name = \"anil reddy\"\n",
    "\n",
    "print(name.title())  # Answer = Anil Reddy\n",
    "\n",
    "print(name.lower()) #Answer = anil reddy \n",
    "\n",
    "print(name.upper()) #Answer = ANIL REDDY"
   ]
  },
  {
   "cell_type": "code",
   "execution_count": 2,
   "metadata": {},
   "outputs": [
    {
     "name": "stdout",
     "output_type": "stream",
     "text": [
      "python\n"
     ]
    }
   ],
   "source": [
    "#adding whitespace to strings with tabs and newlines\n",
    "# any non printing character..!!\n",
    "print(\"python\")"
   ]
  },
  {
   "cell_type": "code",
   "execution_count": 3,
   "metadata": {},
   "outputs": [
    {
     "name": "stdout",
     "output_type": "stream",
     "text": [
      "python \n"
     ]
    }
   ],
   "source": [
    "print(\"python \")"
   ]
  },
  {
   "cell_type": "code",
   "execution_count": 8,
   "metadata": {},
   "outputs": [
    {
     "name": "stdout",
     "output_type": "stream",
     "text": [
      "\tpython\n"
     ]
    }
   ],
   "source": [
    "print(\\tpython')\n",
    "# \\t gives a tab space"
   ]
  },
  {
   "cell_type": "code",
   "execution_count": 8,
   "metadata": {},
   "outputs": [
    {
     "name": "stdout",
     "output_type": "stream",
     "text": [
      "Anil'2\n",
      "anil's\n"
     ]
    }
   ],
   "source": [
    "# methods of declaring a string \n",
    "# by using double quote, or single Quote ore triple quote\n",
    "\n",
    "A=\"anil's\"\n",
    "A1= 'Anil1'\n",
    "A2=\"\"\"Anil2\"\"\"\n",
    "\n",
    "Example= \"\"\"Anil'2\"\"\"\n",
    "# interview: how do you include a ' in between the strings ans: using double quotes and Triple quotes\n",
    "print(Example)\n",
    "print(A)"
   ]
  },
  {
   "cell_type": "code",
   "execution_count": 9,
   "metadata": {},
   "outputs": [
    {
     "name": "stdout",
     "output_type": "stream",
     "text": [
      "Languages:\n",
      "python\n",
      "c\n",
      "java\n",
      "SQL\n"
     ]
    }
   ],
   "source": [
    "# to add a new line\n",
    "print(\"Languages:\\npython\\nc\\njava\\nSQL\")\n",
    "#\\n prints in new line"
   ]
  },
  {
   "cell_type": "code",
   "execution_count": 13,
   "metadata": {},
   "outputs": [
    {
     "name": "stdout",
     "output_type": "stream",
     "text": [
      "Python\n"
     ]
    }
   ],
   "source": [
    "#how to remove the whitespaces\n",
    "Fav_Lang = \"Python \"\n",
    "\n",
    "print(Fav_Lang.rstrip())\n",
    "# R.Strip removes space on right side\n",
    "#l.strip removes space on left side\n",
    "#.strip removes space on both sides"
   ]
  },
  {
   "cell_type": "code",
   "execution_count": 20,
   "metadata": {},
   "outputs": [
    {
     "name": "stdout",
     "output_type": "stream",
     "text": [
      "10\n",
      "20\n"
     ]
    }
   ],
   "source": [
    "# Addition of two number\n",
    "a,b = 10.5,20.5\n",
    "a+b\n",
    "a=round(a)\n",
    "b=round(b)\n",
    "#print(\"total is: \" +b+a)\n",
    "d=\"total is: \"\n",
    "#print(d+a+b)\n",
    "print(a)\n",
    "print(b)"
   ]
  },
  {
   "cell_type": "code",
   "execution_count": 14,
   "metadata": {},
   "outputs": [
    {
     "name": "stdout",
     "output_type": "stream",
     "text": [
      "anil\n"
     ]
    }
   ],
   "source": [
    "print(\"anil\")"
   ]
  },
  {
   "cell_type": "code",
   "execution_count": null,
   "metadata": {},
   "outputs": [],
   "source": []
  }
 ],
 "metadata": {
  "kernelspec": {
   "display_name": "Python 3",
   "language": "python",
   "name": "python3"
  },
  "language_info": {
   "codemirror_mode": {
    "name": "ipython",
    "version": 3
   },
   "file_extension": ".py",
   "mimetype": "text/x-python",
   "name": "python",
   "nbconvert_exporter": "python",
   "pygments_lexer": "ipython3",
   "version": "3.7.3"
  }
 },
 "nbformat": 4,
 "nbformat_minor": 2
}
