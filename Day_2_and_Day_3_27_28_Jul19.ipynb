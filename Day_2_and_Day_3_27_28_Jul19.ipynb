{
 "cells": [
  {
   "cell_type": "code",
   "execution_count": 1,
   "metadata": {},
   "outputs": [
    {
     "name": "stdout",
     "output_type": "stream",
     "text": [
      "Hello,Anil Reddy\n"
     ]
    }
   ],
   "source": [
    "F_Name=\"Anil\"\n",
    "L_Name=\"reddy\"\n",
    "Full_Name= f\"Hello,{F_Name} {L_Name}\"\n",
    "print(Full_Name.title())"
   ]
  },
  {
   "cell_type": "code",
   "execution_count": 15,
   "metadata": {},
   "outputs": [
    {
     "name": "stdout",
     "output_type": "stream",
     "text": [
      "0.30000000000000004\n"
     ]
    }
   ],
   "source": [
    "# Hash is used for writting comments in the program \n",
    "#Numbers\n",
    "\n",
    "#Integers\n",
    "2+3\n",
    "3-2\n",
    "\n",
    "#float :  decimal declaration is called as float\n",
    "0.1+0.2\n",
    "print(0.1+0.2)"
   ]
  },
  {
   "cell_type": "code",
   "execution_count": 14,
   "metadata": {},
   "outputs": [
    {
     "name": "stdout",
     "output_type": "stream",
     "text": [
      "9\n",
      "14\n",
      "20\n"
     ]
    }
   ],
   "source": [
    "X = 2\n",
    "Y = 3\n",
    "Z = 4\n",
    "\n",
    "#adavance approach f assigement:-\n",
    "\n",
    "X,Y,Z = 2,3,4 # assgin values in single declaration\n",
    "print(X+Y+Z)\n",
    "print(X+Y*Z)\n",
    "print((X+Y)*Z)\n"
   ]
  },
  {
   "cell_type": "code",
   "execution_count": null,
   "metadata": {},
   "outputs": [],
   "source": [
    "# Constants in Python:  A constant in a python is like a variable, whose value is same throught the life of the program, \n",
    "#in python we will be declaring constant variables in Capital letter or capital casses\n",
    "#eg\n",
    "MAX_CONNECTIONS = 100\n"
   ]
  },
  {
   "cell_type": "code",
   "execution_count": 24,
   "metadata": {},
   "outputs": [
    {
     "name": "stdout",
     "output_type": "stream",
     "text": [
      "['Hero', 'Redline', 'BSA', 'trek', 'Ranger']\n",
      "Hero\n",
      "Trek\n",
      "RANGER\n",
      "NISSAN\n",
      "5\n"
     ]
    }
   ],
   "source": [
    "# Introduction to LIST - Data Type ( Important )\n",
    "# List ia an Mutable data type\n",
    "#Mutable : Modify, append or change\n",
    "# strings are IMMIUTABLE data types\n",
    "\n",
    "# lists can hold any type of data i.e. integers, characters, strings etc, while strings can only hold a set of characters.\n",
    "\n",
    "# A list is an collection of items in an particular order.\n",
    "# define a list with SQUARE BRACKETS [] and seperated by \",\"\n",
    "#EG:\n",
    "bicycles = ['Hero','Redline','BSA','trek','Ranger']\n",
    "print(bicycles)\n",
    "\n",
    "# how to get a particular or individual element from a list (Question)\n",
    "# Ans:with the help of indexing, indexing will be starting from 0\n",
    "\n",
    "# want to print 1st element from the list\n",
    "print(bicycles[0])\n",
    "\n",
    "#print(bicycles[0,1])\n",
    "\n",
    "bicycles[0]\n",
    "print(bicycles[3].title())\n",
    "print(bicycles[4].upper())\n",
    "\n",
    "bicycles[1] = \"NISSAN\"\n",
    "print(bicycles[1])\n",
    "print(len(bicycles))\n",
    "\n",
    "\n",
    "\n",
    "\n",
    "\n",
    "#bicycles1 = ['Hero','Redline','BSA','trek','Ranger']\n",
    "#if 'BSA'in bicycles1\n",
    "#print(\"Yes, 'BSA' is in the Bicycles list\")\n"
   ]
  },
  {
   "cell_type": "code",
   "execution_count": null,
   "metadata": {},
   "outputs": [],
   "source": []
  },
  {
   "cell_type": "code",
   "execution_count": null,
   "metadata": {},
   "outputs": [],
   "source": []
  },
  {
   "cell_type": "code",
   "execution_count": null,
   "metadata": {},
   "outputs": [],
   "source": []
  }
 ],
 "metadata": {
  "kernelspec": {
   "display_name": "Python 3",
   "language": "python",
   "name": "python3"
  },
  "language_info": {
   "codemirror_mode": {
    "name": "ipython",
    "version": 3
   },
   "file_extension": ".py",
   "mimetype": "text/x-python",
   "name": "python",
   "nbconvert_exporter": "python",
   "pygments_lexer": "ipython3",
   "version": "3.7.3"
  }
 },
 "nbformat": 4,
 "nbformat_minor": 2
}
