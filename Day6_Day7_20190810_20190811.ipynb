{
 "cells": [
  {
   "cell_type": "code",
   "execution_count": null,
   "metadata": {},
   "outputs": [],
   "source": [
    "# Numeric Operations"
   ]
  },
  {
   "cell_type": "code",
   "execution_count": null,
   "metadata": {},
   "outputs": [],
   "source": [
    "# Dictinoaries \n",
    "'''\n",
    "A dictionary is a data type similar to arrays, but works with keys and values instead of indexes. \n",
    "Each value stored in a dictionary can be accessed using a key, which is any type of object (a string, a number, a list, etc.) \n",
    "instead of using its index to address it.\n",
    "\n",
    "dictionary is also a collection type\n",
    "However, it is not an ordered sequence, and it contains key-value pairs. One or more key:value pairs separated by commas \n",
    "are put inside curly brackets to form a dictionary object.\n",
    "\n",
    "Syntax:  \n",
    "dict = { key1:value1, key2:value2,...keyN:valueN }\n",
    "'''"
   ]
  },
  {
   "cell_type": "code",
   "execution_count": null,
   "metadata": {},
   "outputs": [],
   "source": [
    "# Different ways to declare Dictionary\n",
    "# 1)\n",
    "phonebook = {}\n",
    "phonebook[\"John\"] = 938477566\n",
    "phonebook[\"Jack\"] = 938377264\n",
    "phonebook[\"Jill\"] = 947662781\n",
    "print(phonebook)"
   ]
  },
  {
   "cell_type": "code",
   "execution_count": 2,
   "metadata": {},
   "outputs": [
    {
     "name": "stdout",
     "output_type": "stream",
     "text": [
      "Phone number of John is 938477566\n",
      "Phone number of Jack is 938377264\n",
      "Phone number of Jill is 947662781\n"
     ]
    }
   ],
   "source": [
    "# 2)\n",
    "phonebook = {\"John\" : 938477566,\"Jack\" : 938377264,\"Jill\" : 947662781}\n",
    "for name, number in phonebook.items():\n",
    "    print(\"Phone number of %s is %d\" % (name, number))"
   ]
  },
  {
   "cell_type": "code",
   "execution_count": 8,
   "metadata": {},
   "outputs": [
    {
     "name": "stdout",
     "output_type": "stream",
     "text": [
      "{'Jack': 938377264, 'Jill': 947662781}\n"
     ]
    }
   ],
   "source": [
    "# Delete value from Dictionaries\n",
    "# method 1\n",
    "phonebook = {\n",
    "   \"John\" : 938477566,\n",
    "   \"Jack\" : 938377264,\n",
    "   \"Jill\" : 947662781\n",
    "}\n",
    "del phonebook[\"John\"]\n",
    "print(phonebook)"
   ]
  },
  {
   "cell_type": "code",
   "execution_count": 9,
   "metadata": {},
   "outputs": [
    {
     "name": "stdout",
     "output_type": "stream",
     "text": [
      "{'Jack': 938377264, 'Jill': 947662781}\n"
     ]
    }
   ],
   "source": [
    "# Method 2\n",
    "phonebook = {\n",
    "   \"John\" : 938477566,\n",
    "   \"Jack\" : 938377264,\n",
    "   \"Jill\" : 947662781\n",
    "}\n",
    "phonebook.pop(\"John\")\n",
    "print(phonebook)"
   ]
  },
  {
   "cell_type": "code",
   "execution_count": 5,
   "metadata": {},
   "outputs": [
    {
     "name": "stdout",
     "output_type": "stream",
     "text": [
      "Jake is listed in the phonebook.\n",
      "Jill is not listed in the phonebook.\n"
     ]
    }
   ],
   "source": [
    "#Test\n",
    "phonebook = {\n",
    "    \"John\" : 938477566,\n",
    "    \"Jack\" : 938377264,\n",
    "    \n",
    "    \"Jake\" : 999999999\n",
    "}\n",
    "\n",
    "# testing code\n",
    "if \"Jake\" in phonebook:\n",
    "    print(\"Jake is listed in the phonebook.\")\n",
    "if \"Jill\" not in phonebook:\n",
    "    print(\"Jill is not listed in the phonebook.\")"
   ]
  },
  {
   "cell_type": "code",
   "execution_count": 6,
   "metadata": {},
   "outputs": [
    {
     "name": "stdout",
     "output_type": "stream",
     "text": [
      "{('Parker', 'Reynolds', 'Camlin'): 'pen', ('LG', 'Whirlpool', 'Samsung'): 'Refrigerator'}\n"
     ]
    }
   ],
   "source": [
    "items={(\"Parker\",\"Reynolds\",\"Camlin\"):\"pen\",(\"LG\",\"Whirlpool\",\"Samsung\"): \"Refrigerator\"}\n",
    "print(items)"
   ]
  },
  {
   "cell_type": "code",
   "execution_count": null,
   "metadata": {},
   "outputs": [],
   "source": [
    "# How to initialize empty dictionary"
   ]
  },
  {
   "cell_type": "code",
   "execution_count": 26,
   "metadata": {},
   "outputs": [
    {
     "name": "stdout",
     "output_type": "stream",
     "text": [
      "{'color': 'yellow', 'points': 10, 'score': 50, 'net_total': 100}\n",
      "100\n",
      "The alien is in yellow\n",
      "------------\n",
      "{'color': 'green', 'points': 5}\n",
      "green\n"
     ]
    }
   ],
   "source": [
    "alien_1 ={} \n",
    "# how to store data in empty dictionary\n",
    "alien_1['color'] = 'yellow'\n",
    "alien_1['points'] = 10\n",
    "alien_1['score'] = 50\n",
    "alien_1['net_total'] = 100\n",
    "print(alien_1) # prints complete Dictonary\n",
    "print(alien_1['net_total']) # To print the value with key (Here we assigned value 100 to key net_total)\n",
    "\n",
    "# print using Format strings\n",
    "print(f\"The alien is in {alien_1['color']}\")\n",
    "print(\"------------\")\n",
    "\n",
    "# updating dict color value in dict since it's mutable obj \n",
    "alien_1['color'] = 'blue' # updating dict color value in dict since it's mutable obj     \n",
    "#print(f\"The alien is now in {alien_1['color']}\") \n",
    "\n",
    "# declare another dictonary.      \n",
    "t={'color':'green', 'points':5}\n",
    "print(t)\n",
    "\n",
    "print(t['color']) \n",
    "\n",
    "    "
   ]
  },
  {
   "cell_type": "code",
   "execution_count": 30,
   "metadata": {},
   "outputs": [
    {
     "name": "stdout",
     "output_type": "stream",
     "text": [
      "Naresh\n",
      "Naresh\n",
      "None\n"
     ]
    },
    {
     "ename": "KeyError",
     "evalue": "'address'",
     "output_type": "error",
     "traceback": [
      "\u001b[1;31m---------------------------------------------------------------------------\u001b[0m",
      "\u001b[1;31mKeyError\u001b[0m                                  Traceback (most recent call last)",
      "\u001b[1;32m<ipython-input-30-d987aa2894f5>\u001b[0m in \u001b[0;36m<module>\u001b[1;34m\u001b[0m\n\u001b[0;32m     10\u001b[0m \u001b[1;33m\u001b[0m\u001b[0m\n\u001b[0;32m     11\u001b[0m \u001b[0mprint\u001b[0m\u001b[1;33m(\u001b[0m\u001b[0memployee\u001b[0m\u001b[1;33m.\u001b[0m\u001b[0mget\u001b[0m\u001b[1;33m(\u001b[0m\u001b[1;34m'address'\u001b[0m\u001b[1;33m)\u001b[0m\u001b[1;33m)\u001b[0m\u001b[1;33m\u001b[0m\u001b[1;33m\u001b[0m\u001b[0m\n\u001b[1;32m---> 12\u001b[1;33m \u001b[0mprint\u001b[0m\u001b[1;33m(\u001b[0m\u001b[0memployee\u001b[0m\u001b[1;33m[\u001b[0m\u001b[1;34m'address'\u001b[0m\u001b[1;33m]\u001b[0m\u001b[1;33m)\u001b[0m\u001b[1;33m\u001b[0m\u001b[1;33m\u001b[0m\u001b[0m\n\u001b[0m",
      "\u001b[1;31mKeyError\u001b[0m: 'address'"
     ]
    }
   ],
   "source": [
    "# How to Access values with get() method\n",
    "\n",
    "employee = {'name':'Naresh', 'eid':'ABC123', 'contact_no':9012345}\n",
    "\n",
    "print(employee.get('name'))\n",
    "print(employee['name']) # here key assigned in square brackets\n",
    "\n",
    "# Diff b/w accssing value with using key with get(key) method and square[key] brackets\n",
    "# -- The diff while using get() method retuns \"None\" instaed of \"KeyError\" if the key not found in dictionary.\n",
    "\n",
    "print(employee.get('address'))\n",
    "print(employee['address'])"
   ]
  },
  {
   "cell_type": "code",
   "execution_count": null,
   "metadata": {},
   "outputs": [],
   "source": []
  },
  {
   "cell_type": "code",
   "execution_count": null,
   "metadata": {},
   "outputs": [],
   "source": []
  }
 ],
 "metadata": {
  "kernelspec": {
   "display_name": "Python 3",
   "language": "python",
   "name": "python3"
  },
  "language_info": {
   "codemirror_mode": {
    "name": "ipython",
    "version": 3
   },
   "file_extension": ".py",
   "mimetype": "text/x-python",
   "name": "python",
   "nbconvert_exporter": "python",
   "pygments_lexer": "ipython3",
   "version": "3.7.3"
  }
 },
 "nbformat": 4,
 "nbformat_minor": 2
}
