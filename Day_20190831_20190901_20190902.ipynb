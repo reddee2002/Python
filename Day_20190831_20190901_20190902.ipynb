{
 "cells": [
  {
   "cell_type": "code",
   "execution_count": null,
   "metadata": {},
   "outputs": [],
   "source": [
    "# introduction to Python Classes\n",
    "#1.cass\n",
    "#2.Method in the class\n",
    "#3. constructor\n",
    "#4. object or instance"
   ]
  },
  {
   "cell_type": "code",
   "execution_count": 15,
   "metadata": {},
   "outputs": [
    {
     "name": "stdout",
     "output_type": "stream",
     "text": [
      "Rambo is now sitting\n",
      "Rambo rolled over\n",
      "Rambo sleeping\n"
     ]
    }
   ],
   "source": [
    "class Dog:\n",
    "    \"\"\"  A Simple attempt to model a dog\"\"\" # Doc String\n",
    "    def __init__(self,name,age):\n",
    "        #Special method called constructor\n",
    "        #it is used to intialize the variable automatically inside a class.\n",
    "        #we need to use __init__   this is called as a constructor in python\n",
    "        self.name = name\n",
    "        self.age = age\n",
    "        \n",
    "    def sit(self): #methods in side a class #def is a keyword, keywords will be in green color. # sit is a method and methods will be in blue color\n",
    "        \"\"\" Simulate a dog sitting and age attributes\"\"\"\n",
    "        print(f\"{self.name} is now sitting\")\n",
    "        \n",
    "    def roll_over(self):   #methods in side a class\n",
    "        \"\"\" Simulate rolling over in response\"\"\"\n",
    "        print(f\"{self.name} rolled over\")\n",
    "    \n",
    "    def sleep(self):   #methods in side a class\n",
    "        \"\"\" Simulate sleeping in response\"\"\"\n",
    "        print(f\"{self.name} sleeping\")\n",
    "        \n",
    "my_dog = Dog('willie',6) # By assiging the object # arguments passing\n",
    "\n",
    "#print(f\"My dog's name is {my_dog.name}\")\n",
    "#print(f\"Mydog is {my_dog.age} years old\")\n",
    "\n",
    "your_dog = Dog('Johnny',9) # By assiging the object # arguments passing\n",
    "#print(f\"My dog's name is {your_dog.name}\")\n",
    "#print(f\"Mydog is {your_dog.age} years old\")\n",
    "\n",
    "Somesones_dog = Dog('Rambo',2) # my_dog or your_dog  is a object creation.\n",
    "\n",
    "#my_dog.sit()\n",
    "#my_dog.roll_over()\n",
    "\n",
    "#your_dog.sit()\n",
    "#your_dog.roll_over()\n",
    "#your_dog.sleep()\n",
    "\n",
    "Somesones_dog.sit()\n",
    "Somesones_dog.roll_over()\n",
    "Somesones_dog.sleep()"
   ]
  },
  {
   "cell_type": "code",
   "execution_count": 34,
   "metadata": {},
   "outputs": [
    {
     "name": "stdout",
     "output_type": "stream",
     "text": [
      "30\n",
      "-10\n",
      "200\n",
      "0.5\n"
     ]
    }
   ],
   "source": [
    "class Math1:\n",
    "    \"\"\"  An attempt to do Maths Calculations\"\"\" \n",
    "    def __init__(self,a,b):\n",
    "        self.a = a\n",
    "        self.b = b\n",
    "        \n",
    "        \n",
    "    def add(self): \n",
    "        \"\"\" Add two numbers\"\"\"\n",
    "        c = self.a + self.b\n",
    "        #print(f\" Addition of {self.a},{self.b} is \")\n",
    "        #print(self.a+ self.b)\n",
    "        print(c)\n",
    "        \n",
    "    def sub(self): \n",
    "        \"\"\" Substraction two numbers\"\"\"\n",
    "        print(self.a - self.b)\n",
    "    \n",
    "    def multiply(self): \n",
    "        \"\"\" Multiplication two numbers\"\"\"\n",
    "        print(self.a * self.b)\n",
    "     \n",
    "    def divid(self): \n",
    "        \"\"\" Division of two numbers\"\"\"\n",
    "        print(self.a/self.b)\n",
    "        \n",
    "Given_Num = Math1(10,20)\n",
    "\n",
    "# to print Addition of numbers\n",
    "Given_Num.add()\n",
    "\n",
    "#to print Substraction of numbers\n",
    "Given_Num.sub()\n",
    "\n",
    "#to print Multiplication of numbers\n",
    "Given_Num.multiply()\n",
    "\n",
    "#to print Division of numbers\n",
    "Given_Num.divid()"
   ]
  },
  {
   "cell_type": "code",
   "execution_count": 44,
   "metadata": {},
   "outputs": [
    {
     "data": {
      "text/plain": [
       "0.25"
      ]
     },
     "execution_count": 44,
     "metadata": {},
     "output_type": "execute_result"
    }
   ],
   "source": [
    "def dispatch_if(operator, x, y):\n",
    "    if operator == 'add':\n",
    "        return x + y\n",
    "    elif operator == 'sub':\n",
    "        return x - y\n",
    "    elif operator == 'mul':\n",
    "        return x * y\n",
    "    elif operator == 'div':\n",
    "        return x / y\n",
    "    else:\n",
    "        return None\n",
    "\n",
    "\n",
    "def dispatch_dict(operator, x, y):\n",
    "        return {\n",
    "            'add': lambda: x + y,\n",
    "            'sub': lambda: x - y,\n",
    "            'mul': lambda: x * y,\n",
    "            'div': lambda: x / y,\n",
    "        }.get(operator, lambda: None)()\n",
    "\n",
    "#dispatch_if('mul', 2, 8)\n",
    "#dispatch_if('unknown', 2, 8)\n",
    "#dispatch_if('add', 2, 8)\n",
    "#dispatch_if('sub', 2, 8)\n",
    "dispatch_if('div', 2, 8)"
   ]
  },
  {
   "cell_type": "code",
   "execution_count": null,
   "metadata": {},
   "outputs": [],
   "source": []
  },
  {
   "cell_type": "code",
   "execution_count": null,
   "metadata": {},
   "outputs": [],
   "source": []
  },
  {
   "cell_type": "code",
   "execution_count": null,
   "metadata": {},
   "outputs": [],
   "source": []
  },
  {
   "cell_type": "code",
   "execution_count": null,
   "metadata": {},
   "outputs": [],
   "source": []
  },
  {
   "cell_type": "code",
   "execution_count": null,
   "metadata": {},
   "outputs": [],
   "source": []
  }
 ],
 "metadata": {
  "kernelspec": {
   "display_name": "Python 3",
   "language": "python",
   "name": "python3"
  },
  "language_info": {
   "codemirror_mode": {
    "name": "ipython",
    "version": 3
   },
   "file_extension": ".py",
   "mimetype": "text/x-python",
   "name": "python",
   "nbconvert_exporter": "python",
   "pygments_lexer": "ipython3",
   "version": "3.7.3"
  }
 },
 "nbformat": 4,
 "nbformat_minor": 2
}
