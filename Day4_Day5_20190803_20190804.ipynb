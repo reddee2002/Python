{
 "cells": [
  {
   "cell_type": "code",
   "execution_count": 5,
   "metadata": {},
   "outputs": [
    {
     "name": "stdout",
     "output_type": "stream",
     "text": [
      "['Hero', 'Ranger', 'bmx', 'redline']\n",
      "Ranger\n",
      "redline\n"
     ]
    },
    {
     "ename": "IndexError",
     "evalue": "list index out of range",
     "output_type": "error",
     "traceback": [
      "\u001b[1;31m---------------------------------------------------------------------------\u001b[0m",
      "\u001b[1;31mIndexError\u001b[0m                                Traceback (most recent call last)",
      "\u001b[1;32m<ipython-input-5-bfb5d285d776>\u001b[0m in \u001b[0;36m<module>\u001b[1;34m\u001b[0m\n\u001b[0;32m     19\u001b[0m \u001b[1;31m# what if we want to give the index which is not there in the list **\u001b[0m\u001b[1;33m\u001b[0m\u001b[1;33m\u001b[0m\u001b[1;33m\u001b[0m\u001b[0m\n\u001b[0;32m     20\u001b[0m \u001b[1;33m\u001b[0m\u001b[0m\n\u001b[1;32m---> 21\u001b[1;33m \u001b[0mprint\u001b[0m\u001b[1;33m(\u001b[0m\u001b[0mbicycles\u001b[0m\u001b[1;33m[\u001b[0m\u001b[1;36m4\u001b[0m\u001b[1;33m]\u001b[0m\u001b[1;33m)\u001b[0m\u001b[1;33m\u001b[0m\u001b[1;33m\u001b[0m\u001b[0m\n\u001b[0m\u001b[0;32m     22\u001b[0m \u001b[1;33m\u001b[0m\u001b[0m\n",
      "\u001b[1;31mIndexError\u001b[0m: list index out of range"
     ]
    }
   ],
   "source": [
    "#20190803\n",
    "# Introduction to List Data Types.\n",
    "'''\n",
    "1. List is a Mutable datatype.\n",
    "Mutable = which can e changed, once assigned or after assisgned\n",
    "\n",
    "A list is a collection of items in particular order, list is defined with []\n",
    "\n",
    "'Hero','Ranger','bmx','redline' are called as elements\n",
    "'''\n",
    "bicycles = ['Hero','Ranger','bmx','redline']\n",
    "print(bicycles)\n",
    "\n",
    "# How to print a particular item in the list, output required is ranger **\n",
    "print(bicycles[1])\n",
    "\n",
    "#How to print the exact item froma given list is called as indexing of list, knowing the position, indexing start from 0,1,2,3\n",
    "print(bicycles[3])\n",
    "\n",
    "# what if we want to give the index which is not there in the list **\n",
    "print(bicycle[4])\n",
    "#indexerror: error message List index out of range."
   ]
  },
  {
   "cell_type": "code",
   "execution_count": 7,
   "metadata": {},
   "outputs": [
    {
     "name": "stdout",
     "output_type": "stream",
     "text": [
      "Bmx\n",
      "my frst bicycle was Ranger.\n"
     ]
    }
   ],
   "source": [
    "\n",
    "bicycles = ['Hero','Ranger','bmx','redline']\n",
    "print(bicycles[2].title())\n",
    "\n",
    "message = f\"my frst bicycle was {bicycles[1].title()}.\"\n",
    "print(message)\n",
    "\n",
    "# here \"message\" variable is mutable"
   ]
  },
  {
   "cell_type": "code",
   "execution_count": 9,
   "metadata": {},
   "outputs": [
    {
     "name": "stdout",
     "output_type": "stream",
     "text": [
      "['honda', 'yamaha', 'suzuki']\n",
      "['ducati', 'yamaha', 'suzuki']\n"
     ]
    }
   ],
   "source": [
    "# How to change, add and modify elements in a list.\n",
    "\n",
    "motorcycles = ['honda','yamaha','suzuki']\n",
    "print(motorcycles)\n",
    "\n",
    "#1. how to change elements in the list, by using index postions\n",
    "motorcycles[0]= 'ducati'\n",
    "print(motorcycles)\n"
   ]
  },
  {
   "cell_type": "code",
   "execution_count": 13,
   "metadata": {},
   "outputs": [
    {
     "name": "stdout",
     "output_type": "stream",
     "text": [
      "['honda', 'yamaha', 'suzuki']\n",
      "['honda', 'yamaha', 'suzuki', 'ducati']\n",
      "['honda', 'ducati', 'yamaha', 'suzuki', 'ducati']\n"
     ]
    }
   ],
   "source": [
    "#2. How to add or append  the element in the list\n",
    "motorcycles = ['honda','yamaha','suzuki']\n",
    "print(motorcycles)\n",
    "\n",
    "motorcycles.append('ducati')\n",
    "print(motorcycles) # it append the element after the last position\n"
   ]
  },
  {
   "cell_type": "code",
   "execution_count": 14,
   "metadata": {},
   "outputs": [
    {
     "name": "stdout",
     "output_type": "stream",
     "text": [
      "['honda', 'yamaha', 'suzuki']\n",
      "['honda', 'ducati', 'yamaha', 'suzuki']\n"
     ]
    }
   ],
   "source": [
    "#to include or append in the 1st index postion.\n",
    "motorcycles = ['honda','yamaha','suzuki']\n",
    "print(motorcycles)\n",
    "\n",
    "motorcycles.insert(1,'ducati')\n",
    "print(motorcycles)\n"
   ]
  },
  {
   "cell_type": "code",
   "execution_count": 15,
   "metadata": {},
   "outputs": [
    {
     "name": "stdout",
     "output_type": "stream",
     "text": [
      "['Audi', 'BMW', 'Volvo', 'Swift', 'Cruze']\n"
     ]
    }
   ],
   "source": [
    "# Creating an empty list, later on elements to the list after delcaring. or called as dynamic creation of list.\n",
    "\n",
    "cars=[]\n",
    "\n",
    "cars.append('Audi')\n",
    "cars.append('BMW')\n",
    "cars.append('Volvo')\n",
    "cars.append('Swift')\n",
    "cars.append('Cruze')\n",
    "\n",
    "print(cars)"
   ]
  },
  {
   "cell_type": "code",
   "execution_count": 17,
   "metadata": {},
   "outputs": [
    {
     "name": "stdout",
     "output_type": "stream",
     "text": [
      "['honda', 'yamaha', 'suzuki']\n",
      "['honda', 'yamaha']\n"
     ]
    }
   ],
   "source": [
    "motorcycles = ['honda','yamaha','suzuki']\n",
    "print(motorcycles)\n",
    "\n",
    "# how to delete the elements in the list\n",
    "del motorcycles[2]\n",
    "print(motorcycles)\n"
   ]
  },
  {
   "cell_type": "code",
   "execution_count": 22,
   "metadata": {},
   "outputs": [
    {
     "name": "stdout",
     "output_type": "stream",
     "text": [
      "['honda', 'yamaha']\n"
     ]
    }
   ],
   "source": [
    "# delete last intex element using pop()\n",
    "motorcycles = ['honda','yamaha','suzuki','r15','pulsar']\n",
    "motorcycles.pop() # pop deletes last index postion element\n",
    "\n",
    "print(motorcycles)"
   ]
  },
  {
   "cell_type": "code",
   "execution_count": 23,
   "metadata": {},
   "outputs": [
    {
     "name": "stdout",
     "output_type": "stream",
     "text": [
      "['honda', 'suzuki', 'r15', 'pulsar']\n"
     ]
    }
   ],
   "source": [
    "# delete specified intex element using pop()\n",
    "motorcycles = ['honda','yamaha','suzuki','r15','pulsar']\n",
    "motorcycles.pop(1) # pop deletes specified index postion element\n",
    "\n",
    "print(motorcycles)\n",
    "\n",
    "# pop() will not delete items permanently.. the deleted items will be stored seperatly in an other variable declared"
   ]
  },
  {
   "cell_type": "code",
   "execution_count": 27,
   "metadata": {},
   "outputs": [
    {
     "name": "stdout",
     "output_type": "stream",
     "text": [
      "['honda', 'yamaha', 'suzuki', 'r15', 'pulsar', 'hayabusa']\n",
      "['hayabusa', 'honda', 'pulsar', 'r15', 'suzuki', 'yamaha']\n",
      "['yamaha', 'suzuki', 'r15', 'pulsar', 'honda', 'hayabusa']\n"
     ]
    }
   ],
   "source": [
    "#Sorting\n",
    "motorcycles = ['honda','yamaha','suzuki','r15','pulsar','hayabusa']\n",
    "print(motorcycles)\n",
    "\n",
    "#how to sort a list, or arranging in a particular order.\n",
    "motorcycles.sort()\n",
    "print(motorcycles)\n",
    "\n",
    "# how to print the elements in alist in reverse order.\n",
    "motorcycles.reverse()\n",
    "print(motorcycles)"
   ]
  },
  {
   "cell_type": "code",
   "execution_count": 30,
   "metadata": {},
   "outputs": [
    {
     "name": "stdout",
     "output_type": "stream",
     "text": [
      "['honda', 'yamaha', 'suzuki', 'r15', 'pulsar', 'hayabusa']\n"
     ]
    },
    {
     "data": {
      "text/plain": [
       "6"
      ]
     },
     "execution_count": 30,
     "metadata": {},
     "output_type": "execute_result"
    }
   ],
   "source": [
    "#how to count the no of elements present in a list...?\n",
    "motorcycles = ['honda','yamaha','suzuki','r15','pulsar','hayabusa']\n",
    "print(motorcycles)\n",
    "\n",
    "len(motorcycles)\n"
   ]
  },
  {
   "cell_type": "code",
   "execution_count": 33,
   "metadata": {},
   "outputs": [
    {
     "name": "stdout",
     "output_type": "stream",
     "text": [
      "[1, 3, 6, 9]\n"
     ]
    }
   ],
   "source": [
    "#20190804\n",
    "numbers = [6, 9, 3, 1]\n",
    "numbers_sorted = sorted(numbers)\n",
    "print(numbers_sorted)\n"
   ]
  },
  {
   "cell_type": "code",
   "execution_count": 35,
   "metadata": {},
   "outputs": [
    {
     "name": "stdout",
     "output_type": "stream",
     "text": [
      "harry\n",
      "dumbeldore\n",
      "hormanie\n",
      "anand\n"
     ]
    }
   ],
   "source": [
    "#introduction to for loop\n",
    "'''\n",
    "Looping through an entire list. \n",
    "iteration\n",
    "'''\n",
    "magicians = ['harry','dumbeldore','hormanie','anand']\n",
    "for magician1 in magicians:\n",
    "    print(magician1)\n",
    "# magician1 is creation of a temp variable inside a for loop.\n",
    "#: is syntax in for loop\n",
    "# space before print :four line of free spance is called as indentation, advised by zen of python, "
   ]
  },
  {
   "cell_type": "code",
   "execution_count": 39,
   "metadata": {},
   "outputs": [
    {
     "name": "stdout",
     "output_type": "stream",
     "text": [
      "Harry, that was a great trick\n",
      "I can't wait to see your next trick,Harry\n",
      "Dumbeldore, that was a great trick\n",
      "I can't wait to see your next trick,Dumbeldore\n",
      "Hormanie, that was a great trick\n",
      "I can't wait to see your next trick,Hormanie\n",
      "Anand, that was a great trick\n",
      "I can't wait to see your next trick,Anand\n"
     ]
    }
   ],
   "source": [
    "magicians = ['harry','dumbeldore','hormanie','anand']\n",
    "for magician1 in magicians:\n",
    "    print(f\"{magician1.title()}, that was a great trick\")\n",
    "    \n",
    "print(f\"I can't wait to see your next trick,{magician1.title()}\") # this print is not under for loop, because it not under indentation\n"
   ]
  },
  {
   "cell_type": "code",
   "execution_count": 43,
   "metadata": {},
   "outputs": [
    {
     "name": "stdout",
     "output_type": "stream",
     "text": [
      "1\n",
      "2\n",
      "3\n",
      "4\n"
     ]
    }
   ],
   "source": [
    "#making numerical list...\n",
    "for x in range(1,5):\n",
    "    print(x)\n",
    "# how range function works. range requires start and end point, and end point is noty included in the print.\n",
    "#non inclusive and exclusive values\n"
   ]
  },
  {
   "cell_type": "code",
   "execution_count": 55,
   "metadata": {},
   "outputs": [
    {
     "name": "stdout",
     "output_type": "stream",
     "text": [
      "[1, 2, 3, 4, 5, 6, 7, 8, 9, 10, 11, 12, 13, 14, 15, 16, 17, 18, 19]\n",
      "1\n",
      "2\n",
      "3\n",
      "4\n",
      "5\n",
      "6\n",
      "7\n",
      "8\n",
      "9\n"
     ]
    }
   ],
   "source": [
    "# using range to make a list of numbers, list is used to \n",
    "\n",
    "numbers=list(range(1,20)) \n",
    "print(numbers) # prints numbers in a list\n",
    "\n",
    "for y in range(1,10):\n",
    "    print(y) # prints numbers in next line"
   ]
  },
  {
   "cell_type": "code",
   "execution_count": 47,
   "metadata": {},
   "outputs": [
    {
     "name": "stdout",
     "output_type": "stream",
     "text": [
      "[2, 4, 6, 8, 10, 12, 14, 16, 18]\n"
     ]
    }
   ],
   "source": [
    "#print even numbers only from 1 to 20m, here the 3rd parameter is used for incrementation, or called as step calculation\n",
    "even_numbers=list(range(2,20,2))\n",
    "print(even_numbers)"
   ]
  },
  {
   "cell_type": "code",
   "execution_count": 53,
   "metadata": {},
   "outputs": [
    {
     "name": "stdout",
     "output_type": "stream",
     "text": [
      "1\n",
      "9\n",
      "35\n"
     ]
    }
   ],
   "source": [
    "#how to perform a simple statistical operations on a list.\n",
    "digits=[1,2,3,5,7,8,9]\n",
    "min(digits)  # minimum value in the list\n",
    "max(digits)  # maximum value in the list\n",
    "sum(digits)  #sum of the list\n",
    "print(min(digits))\n",
    "print(max(digits))\n",
    "print(sum(digits))"
   ]
  },
  {
   "cell_type": "code",
   "execution_count": 51,
   "metadata": {},
   "outputs": [
    {
     "name": "stdout",
     "output_type": "stream",
     "text": [
      "['dhoni', 'dravid', 'kumble']\n",
      "['yuvraj', 'sachin']\n",
      "['sachin', 'dhoni']\n"
     ]
    }
   ],
   "source": [
    "#slicing of the list  **** slicing is creation of a sub list using a main list\n",
    "\n",
    "players = ['yuvraj','sachin','dhoni','dravid','kumble']\n",
    "#print from index 2 to last position or dhoni to kumble\n",
    "print(players[2:5]) # to get the last postion we need to declare lastpostion+1 as last index position\n",
    "print(players[0:2]) # to display the names from 0 and 1st index positions\n",
    "print(players[1:3]) # to display 1st and 2nd index position \n"
   ]
  },
  {
   "cell_type": "code",
   "execution_count": null,
   "metadata": {},
   "outputs": [],
   "source": [
    "\n",
    "\n",
    "\n"
   ]
  }
 ],
 "metadata": {
  "kernelspec": {
   "display_name": "Python 3",
   "language": "python",
   "name": "python3"
  },
  "language_info": {
   "codemirror_mode": {
    "name": "ipython",
    "version": 3
   },
   "file_extension": ".py",
   "mimetype": "text/x-python",
   "name": "python",
   "nbconvert_exporter": "python",
   "pygments_lexer": "ipython3",
   "version": "3.7.3"
  }
 },
 "nbformat": 4,
 "nbformat_minor": 2
}
