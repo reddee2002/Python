{
 "cells": [
  {
   "cell_type": "code",
   "execution_count": 1,
   "metadata": {},
   "outputs": [
    {
     "name": "stdout",
     "output_type": "stream",
     "text": [
      "200\n",
      "500\n"
     ]
    }
   ],
   "source": [
    "# Introduction to Tuple Data Type\n",
    "#1. it is an immutable data type\n",
    "#2.create a list of items that cannot be changed, \n",
    "\n",
    "# tuple can be created by using parenthesis ()\n",
    "\n",
    "#Example: If we want to create a rectangle that should always be an fixed size.\n",
    "# in tuple values are seperated by ,\n",
    "\n",
    "\n",
    "dimensions = (200,500)\n",
    "print(dimensions[0])\n",
    "print(dimensions[1])"
   ]
  },
  {
   "cell_type": "code",
   "execution_count": 2,
   "metadata": {},
   "outputs": [
    {
     "ename": "TypeError",
     "evalue": "'tuple' object does not support item assignment",
     "output_type": "error",
     "traceback": [
      "\u001b[1;31m---------------------------------------------------------------------------\u001b[0m",
      "\u001b[1;31mTypeError\u001b[0m                                 Traceback (most recent call last)",
      "\u001b[1;32m<ipython-input-2-ca726055e795>\u001b[0m in \u001b[0;36m<module>\u001b[1;34m\u001b[0m\n\u001b[0;32m      1\u001b[0m \u001b[0mdimensions\u001b[0m \u001b[1;33m=\u001b[0m \u001b[1;33m(\u001b[0m\u001b[1;36m200\u001b[0m\u001b[1;33m,\u001b[0m\u001b[1;36m500\u001b[0m\u001b[1;33m)\u001b[0m\u001b[1;33m\u001b[0m\u001b[1;33m\u001b[0m\u001b[0m\n\u001b[1;32m----> 2\u001b[1;33m \u001b[0mdimensions\u001b[0m\u001b[1;33m[\u001b[0m\u001b[1;36m0\u001b[0m\u001b[1;33m]\u001b[0m \u001b[1;33m=\u001b[0m \u001b[1;36m250\u001b[0m\u001b[1;33m\u001b[0m\u001b[1;33m\u001b[0m\u001b[0m\n\u001b[0m",
      "\u001b[1;31mTypeError\u001b[0m: 'tuple' object does not support item assignment"
     ]
    }
   ],
   "source": [
    "# tuple values cannot be changed, below example throws error \"TypeError: 'tuple' object does not support item assignment\"\n",
    "dimensions = (200,500)\n",
    "dimensions[0] = 250"
   ]
  },
  {
   "cell_type": "code",
   "execution_count": 3,
   "metadata": {},
   "outputs": [
    {
     "name": "stdout",
     "output_type": "stream",
     "text": [
      "10\n",
      "20\n",
      "30\n"
     ]
    }
   ],
   "source": [
    "#looping through an tuple by using for loop\n",
    "dim1 = (10,20,30)\n",
    "for dim in dim1:  # dim is called an temperory variable\n",
    "    print(dim)\n"
   ]
  },
  {
   "cell_type": "code",
   "execution_count": 4,
   "metadata": {},
   "outputs": [
    {
     "name": "stdout",
     "output_type": "stream",
     "text": [
      "(30, 40, 50)\n"
     ]
    }
   ],
   "source": [
    "# Writing over tuple\n",
    "dim1 = (10,20,30)  # old declaration, now change to 40,50,60\n",
    "dim1 = (40,50,60) # new values assigned or new declartion\n",
    "\n",
    "print(dim1)"
   ]
  },
  {
   "cell_type": "code",
   "execution_count": 6,
   "metadata": {},
   "outputs": [
    {
     "name": "stdout",
     "output_type": "stream",
     "text": [
      "Original values:\n",
      "1\n",
      "2\n",
      "3\n",
      "\n",
      "Modified values:\n",
      "4\n",
      "5\n",
      "6\n"
     ]
    }
   ],
   "source": [
    "# example 2\n",
    "triangle = (1,2,3)\n",
    "\n",
    "print(\"Original values:\")\n",
    "\n",
    "for x in triangle:\n",
    "    print(x)\n",
    "\n",
    "triangle = (4,5,6)\n",
    "\n",
    "print(\"\\nModified values:\")\n",
    "\n",
    "for y in triangle:\n",
    "    print(y)"
   ]
  },
  {
   "cell_type": "code",
   "execution_count": null,
   "metadata": {},
   "outputs": [],
   "source": []
  },
  {
   "cell_type": "code",
   "execution_count": null,
   "metadata": {},
   "outputs": [],
   "source": [
    "# The stulying guide: ---> PEP8.\n",
    "# PEP8 ----> Python Enhancement Praposals -8\n",
    "\n",
    "#1. Line length --- should not exceed more than 80 words..\n",
    "#2. Maintaining Blank lines\n",
    "#3. Indentation four(4) spaces of need to be left for indentation"
   ]
  },
  {
   "cell_type": "code",
   "execution_count": 8,
   "metadata": {},
   "outputs": [
    {
     "name": "stdout",
     "output_type": "stream",
     "text": [
      "Audi\n",
      "BMW\n",
      "Benz\n",
      "Toyota\n"
     ]
    }
   ],
   "source": [
    "# Intro to IF conditions\n",
    "# Basic syntax of a IF condition\n",
    "\n",
    "#if condition_test:\n",
    "#    do_something\n",
    "\n",
    "#1. if car is bmw then print in upper case and all others with title case\n",
    "\n",
    "cars = ['audi','bmw','benz','toyota'] \n",
    "\n",
    "for car in cars:\n",
    "    if car == 'bmw':\n",
    "        print(car.upper())\n",
    "    else:\n",
    "        print(car.title())\n"
   ]
  },
  {
   "cell_type": "code",
   "execution_count": 16,
   "metadata": {},
   "outputs": [
    {
     "data": {
      "text/plain": [
       "False"
      ]
     },
     "execution_count": 16,
     "metadata": {},
     "output_type": "execute_result"
    }
   ],
   "source": [
    "# true or false of the statements\n",
    "car = 'Rangerover'\n",
    "car.title() =='rangerover' # == means it is an equavality test\n"
   ]
  },
  {
   "cell_type": "code",
   "execution_count": 15,
   "metadata": {},
   "outputs": [
    {
     "data": {
      "text/plain": [
       "True"
      ]
     },
     "execution_count": 15,
     "metadata": {},
     "output_type": "execute_result"
    }
   ],
   "source": [
    "car = 'Rangerover'\n",
    "car.lower() =='rangerover'"
   ]
  },
  {
   "cell_type": "code",
   "execution_count": null,
   "metadata": {},
   "outputs": [],
   "source": []
  },
  {
   "cell_type": "code",
   "execution_count": 20,
   "metadata": {},
   "outputs": [
    {
     "data": {
      "text/plain": [
       "False"
      ]
     },
     "execution_count": 20,
     "metadata": {},
     "output_type": "execute_result"
    }
   ],
   "source": [
    "#checking wether a value is in list\n",
    "requested_toppings = ['mushroom','corn','pineapple']\n",
    "\n",
    "'mushroom' in requested_toppings # true\n",
    "\n",
    "'pepperoni' in requested_toppings # false\n",
    "    \n",
    "'mushroom' not in requested_toppings   "
   ]
  },
  {
   "cell_type": "code",
   "execution_count": 23,
   "metadata": {},
   "outputs": [
    {
     "name": "stdout",
     "output_type": "stream",
     "text": [
      "Sorry, you are too young to vote!\n"
     ]
    }
   ],
   "source": [
    "#boolean expressions: it declares tru or false of the given condition\n",
    "\n",
    "age = 17\n",
    "\n",
    "if age >= 18:\n",
    "    print('You are old enough to vote!')\n",
    "else:\n",
    "    print('Sorry, you are too young to vote!')"
   ]
  },
  {
   "cell_type": "code",
   "execution_count": null,
   "metadata": {},
   "outputs": [],
   "source": []
  },
  {
   "cell_type": "code",
   "execution_count": 24,
   "metadata": {},
   "outputs": [
    {
     "name": "stdout",
     "output_type": "stream",
     "text": [
      "Tell me something and i will repeat it for you:Hello All, Good to see you\n",
      "Hello All, Good to see you\n"
     ]
    }
   ],
   "source": [
    "#introduction to user inputs **\n",
    "\n",
    "message = input(\"Tell me something and i will repeat it for you:\")\n",
    "\n",
    "print(message)"
   ]
  },
  {
   "cell_type": "code",
   "execution_count": 29,
   "metadata": {},
   "outputs": [
    {
     "ename": "SyntaxError",
     "evalue": "unexpected character after line continuation character (<ipython-input-29-008e0c49fa43>, line 2)",
     "output_type": "error",
     "traceback": [
      "\u001b[1;36m  File \u001b[1;32m\"<ipython-input-29-008e0c49fa43>\"\u001b[1;36m, line \u001b[1;32m2\u001b[0m\n\u001b[1;33m    print(\\nage)\u001b[0m\n\u001b[1;37m                 ^\u001b[0m\n\u001b[1;31mSyntaxError\u001b[0m\u001b[1;31m:\u001b[0m unexpected character after line continuation character\n"
     ]
    }
   ],
   "source": [
    "age = input(\"Hpw old are you?\")\n",
    "print(age) \n",
    "print (':Is your age')"
   ]
  },
  {
   "cell_type": "code",
   "execution_count": null,
   "metadata": {},
   "outputs": [],
   "source": [
    "#20190818\n",
    "# While Loop Introduction:"
   ]
  },
  {
   "cell_type": "code",
   "execution_count": 30,
   "metadata": {},
   "outputs": [
    {
     "name": "stdout",
     "output_type": "stream",
     "text": [
      "1\n",
      "2\n",
      "3\n",
      "4\n",
      "5\n"
     ]
    }
   ],
   "source": [
    "#Example\n",
    "current_number = 1\n",
    "while current_number <=5:\n",
    "    print(current_number)\n",
    "    current_number = current_number + 1\n",
    "\n",
    "#Entire logic depends up on above  code    "
   ]
  },
  {
   "cell_type": "code",
   "execution_count": 31,
   "metadata": {},
   "outputs": [
    {
     "name": "stdout",
     "output_type": "stream",
     "text": [
      "1\n",
      "3\n",
      "5\n"
     ]
    }
   ],
   "source": [
    "#Example 2\n",
    "current_number = 1\n",
    "while current_number <= 5:\n",
    "    print(current_number)\n",
    "    current_number = current_number + 2"
   ]
  },
  {
   "cell_type": "code",
   "execution_count": 32,
   "metadata": {},
   "outputs": [
    {
     "name": "stdout",
     "output_type": "stream",
     "text": [
      "1\n",
      "3\n",
      "5\n",
      "7\n",
      "9\n",
      "11\n",
      "13\n",
      "15\n",
      "17\n",
      "19\n"
     ]
    }
   ],
   "source": [
    "#Example 3\n",
    "current_number = 1\n",
    "while current_number <= 20:\n",
    "    print(current_number)\n",
    "    current_number = current_number + 2"
   ]
  },
  {
   "cell_type": "code",
   "execution_count": 34,
   "metadata": {},
   "outputs": [
    {
     "name": "stdout",
     "output_type": "stream",
     "text": [
      "Hello\n"
     ]
    }
   ],
   "source": [
    "# Introduction to FUNCTIONS\n",
    "# given two numbers   a, b   --> addition  a+b  need to be performed 5 times  c= a+b print(c)\n",
    "# Function are used for automating the process\n",
    "'''\n",
    "a = 1\n",
    "b = 2\n",
    "f(x) = a+b\n",
    "'''\n",
    "# def is used to declare a function\n",
    "def greet_users(): # function name\n",
    "    \"\"\" Display a simple greeting\"\"\" # Doc string -- explain what function is performing\n",
    "    print(\"Hello\")\n",
    "\n",
    "greet_users()"
   ]
  },
  {
   "cell_type": "code",
   "execution_count": 38,
   "metadata": {},
   "outputs": [
    {
     "name": "stdout",
     "output_type": "stream",
     "text": [
      "Hello, Anil!\n",
      "Hello\n"
     ]
    }
   ],
   "source": [
    "def greet_user(username): # username is called as defining parameter\n",
    "    \"\"\" Display a simple greeting to user logged in\"\"\"\n",
    "    print(f\"Hello, {username.title()}!\")\n",
    "    \n",
    "greet_user('anil') # calling function --  arguments passing\n",
    "greet_users()"
   ]
  },
  {
   "cell_type": "code",
   "execution_count": null,
   "metadata": {},
   "outputs": [],
   "source": [
    "# more information about passing arguments\n",
    "#1. positional arguments\n",
    "#2. keyword arguments"
   ]
  },
  {
   "cell_type": "code",
   "execution_count": 41,
   "metadata": {},
   "outputs": [
    {
     "name": "stdout",
     "output_type": "stream",
     "text": [
      "\n",
      "I have a Husky\n",
      "my Husky's name is Bruno\n",
      "\n",
      "I have a Husky\n",
      "my Husky's name is Johnny\n"
     ]
    }
   ],
   "source": [
    "#1. positional arguments\n",
    "def describe_pet(animal_type, pet_name):\n",
    "    \"\"\" Display information about a pet\"\"\"\n",
    "    print(f\"\\nI have a {animal_type}\")\n",
    "    print(f\"my {animal_type}'s name is {pet_name.title()}\")\n",
    "    \n",
    "describe_pet('Husky','bruno') # this is called as positional arguments, need to be careful, \n",
    "describe_pet(pet_name='Johnny', animal_type = 'Husky') # this is called a ketword arguments\n"
   ]
  },
  {
   "cell_type": "code",
   "execution_count": null,
   "metadata": {},
   "outputs": [],
   "source": []
  }
 ],
 "metadata": {
  "kernelspec": {
   "display_name": "Python 3",
   "language": "python",
   "name": "python3"
  },
  "language_info": {
   "codemirror_mode": {
    "name": "ipython",
    "version": 3
   },
   "file_extension": ".py",
   "mimetype": "text/x-python",
   "name": "python",
   "nbconvert_exporter": "python",
   "pygments_lexer": "ipython3",
   "version": "3.7.3"
  }
 },
 "nbformat": 4,
 "nbformat_minor": 2
}
